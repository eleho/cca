{
 "cells": [
  {
   "cell_type": "code",
   "execution_count": 2,
   "metadata": {},
   "outputs": [
    {
     "data": {
      "text/plain": [
       "['1,1,957,1,299.98,299.98',\n",
       " '2,2,1073,1,199.99,199.99',\n",
       " '3,2,502,5,250.0,50.0',\n",
       " '4,2,403,1,129.99,129.99',\n",
       " '5,4,897,2,49.98,24.99',\n",
       " '6,4,365,5,299.95,59.99',\n",
       " '7,4,502,3,150.0,50.0',\n",
       " '8,4,1014,4,199.92,49.98',\n",
       " '9,5,957,1,299.98,299.98',\n",
       " '10,5,365,5,299.95,59.99']"
      ]
     },
     "execution_count": 2,
     "metadata": {},
     "output_type": "execute_result"
    }
   ],
   "source": [
    "def readData(dataPath):\n",
    "    dataFile = open(dataPath)\n",
    "    dataStr = dataFile.read()\n",
    "    dataList = dataStr.splitlines()\n",
    "    return dataList\n",
    "\n",
    "ordersPath = '/data/retail_db/orders/part-00000'\n",
    "orders = readData(ordersPath)\n",
    "orders[:10]\n",
    "# order_id, order_date, order_customer_id, order_status\n",
    "\n",
    "orderItemsPath = '/data/retail_db/order_items/part-00000'\n",
    "orderItems = readData(orderItemsPath)\n",
    "orderItems[:10]"
   ]
  },
  {
   "cell_type": "code",
   "execution_count": 3,
   "metadata": {},
   "outputs": [
    {
     "data": {
      "text/plain": [
       "['3,2013-07-25 00:00:00.0,12111,COMPLETE',\n",
       " '5,2013-07-25 00:00:00.0,11318,COMPLETE',\n",
       " '6,2013-07-25 00:00:00.0,7130,COMPLETE',\n",
       " '7,2013-07-25 00:00:00.0,4530,COMPLETE',\n",
       " '15,2013-07-25 00:00:00.0,2568,COMPLETE',\n",
       " '17,2013-07-25 00:00:00.0,2667,COMPLETE',\n",
       " '22,2013-07-25 00:00:00.0,333,COMPLETE',\n",
       " '26,2013-07-25 00:00:00.0,7562,COMPLETE',\n",
       " '28,2013-07-25 00:00:00.0,656,COMPLETE',\n",
       " '32,2013-07-25 00:00:00.0,3960,COMPLETE']"
      ]
     },
     "execution_count": 3,
     "metadata": {},
     "output_type": "execute_result"
    }
   ],
   "source": [
    "ordersFilteredComplete = []\n",
    "for order in orders:\n",
    "    if order.split(',')[3] == 'COMPLETE':\n",
    "        ordersFilteredComplete.append(order)\n",
    "\n",
    "ordersFilteredComplete[:10]"
   ]
  },
  {
   "cell_type": "code",
   "execution_count": 4,
   "metadata": {},
   "outputs": [
    {
     "data": {
      "text/plain": [
       "['1,2013-07-25 00:00:00.0,11599,CLOSED',\n",
       " '2,2013-07-25 00:00:00.0,256,PENDING_PAYMENT',\n",
       " '3,2013-07-25 00:00:00.0,12111,COMPLETE',\n",
       " '4,2013-07-25 00:00:00.0,8827,CLOSED',\n",
       " '5,2013-07-25 00:00:00.0,11318,COMPLETE',\n",
       " '6,2013-07-25 00:00:00.0,7130,COMPLETE',\n",
       " '7,2013-07-25 00:00:00.0,4530,COMPLETE',\n",
       " '8,2013-07-25 00:00:00.0,2911,PROCESSING',\n",
       " '9,2013-07-25 00:00:00.0,5657,PENDING_PAYMENT',\n",
       " '10,2013-07-25 00:00:00.0,5648,PENDING_PAYMENT']"
      ]
     },
     "execution_count": 4,
     "metadata": {},
     "output_type": "execute_result"
    }
   ],
   "source": [
    "ordersFilteredDate = []\n",
    "for order in orders:\n",
    "    if order.split(',')[1] == \"2013-07-25 00:00:00.0\":\n",
    "        ordersFilteredDate.append(order)\n",
    "        \n",
    "ordersFilteredDate[:10]"
   ]
  },
  {
   "cell_type": "code",
   "execution_count": 8,
   "metadata": {},
   "outputs": [
    {
     "data": {
      "text/plain": [
       "['2,2,1073,1,199.99,199.99', '3,2,502,5,250.0,50.0', '4,2,403,1,129.99,129.99']"
      ]
     },
     "execution_count": 8,
     "metadata": {},
     "output_type": "execute_result"
    }
   ],
   "source": [
    "orderFilteredItem = []\n",
    "for orderItem in orderItems:\n",
    "    if int(orderItem.split(',')[1]) == 2:\n",
    "        orderFilteredItem.append(orderItem)\n",
    "        \n",
    "orderFilteredItem[:10]"
   ]
  },
  {
   "cell_type": "code",
   "execution_count": 9,
   "metadata": {},
   "outputs": [
    {
     "data": {
      "text/plain": [
       "['3,2013-07-25 00:00:00.0,12111,COMPLETE',\n",
       " '5,2013-07-25 00:00:00.0,11318,COMPLETE',\n",
       " '6,2013-07-25 00:00:00.0,7130,COMPLETE',\n",
       " '7,2013-07-25 00:00:00.0,4530,COMPLETE',\n",
       " '15,2013-07-25 00:00:00.0,2568,COMPLETE',\n",
       " '17,2013-07-25 00:00:00.0,2667,COMPLETE',\n",
       " '22,2013-07-25 00:00:00.0,333,COMPLETE',\n",
       " '26,2013-07-25 00:00:00.0,7562,COMPLETE',\n",
       " '28,2013-07-25 00:00:00.0,656,COMPLETE',\n",
       " '32,2013-07-25 00:00:00.0,3960,COMPLETE']"
      ]
     },
     "execution_count": 9,
     "metadata": {},
     "output_type": "execute_result"
    }
   ],
   "source": [
    "def myFilter(collections, function):\n",
    "    collectionsFilter = []\n",
    "    for collection in collections:\n",
    "        if function(collection):\n",
    "            collectionsFilter.append(collection)\n",
    "    return collectionsFilter\n",
    "\n",
    "orderFiltered = myFilter(orders, lambda o: o.split(',')[3] == \"COMPLETE\")\n",
    "orderFiltered[:10]"
   ]
  },
  {
   "cell_type": "code",
   "execution_count": 10,
   "metadata": {},
   "outputs": [
    {
     "data": {
      "text/plain": [
       "['1,2013-07-25 00:00:00.0,11599,CLOSED',\n",
       " '2,2013-07-25 00:00:00.0,256,PENDING_PAYMENT',\n",
       " '3,2013-07-25 00:00:00.0,12111,COMPLETE',\n",
       " '4,2013-07-25 00:00:00.0,8827,CLOSED',\n",
       " '5,2013-07-25 00:00:00.0,11318,COMPLETE',\n",
       " '6,2013-07-25 00:00:00.0,7130,COMPLETE',\n",
       " '7,2013-07-25 00:00:00.0,4530,COMPLETE',\n",
       " '8,2013-07-25 00:00:00.0,2911,PROCESSING',\n",
       " '9,2013-07-25 00:00:00.0,5657,PENDING_PAYMENT',\n",
       " '10,2013-07-25 00:00:00.0,5648,PENDING_PAYMENT']"
      ]
     },
     "execution_count": 10,
     "metadata": {},
     "output_type": "execute_result"
    }
   ],
   "source": [
    "orderFiltered = myFilter(orders, lambda o: o.split(',')[1] == \"2013-07-25 00:00:00.0\")\n",
    "orderFiltered[:10]"
   ]
  },
  {
   "cell_type": "code",
   "execution_count": 11,
   "metadata": {},
   "outputs": [
    {
     "data": {
      "text/plain": [
       "143"
      ]
     },
     "execution_count": 11,
     "metadata": {},
     "output_type": "execute_result"
    }
   ],
   "source": [
    "len(orderFiltered)"
   ]
  },
  {
   "cell_type": "code",
   "execution_count": 12,
   "metadata": {},
   "outputs": [
    {
     "data": {
      "text/plain": [
       "['2,2,1073,1,199.99,199.99', '3,2,502,5,250.0,50.0', '4,2,403,1,129.99,129.99']"
      ]
     },
     "execution_count": 12,
     "metadata": {},
     "output_type": "execute_result"
    }
   ],
   "source": [
    "orderItemsFiltered = myFilter(orderItems, lambda oi: int(oi.split(',')[1]) == 2)\n",
    "orderItemsFiltered[:10]"
   ]
  },
  {
   "cell_type": "code",
   "execution_count": null,
   "metadata": {},
   "outputs": [],
   "source": []
  }
 ],
 "metadata": {
  "kernelspec": {
   "display_name": "Python 3",
   "language": "python",
   "name": "python3"
  },
  "language_info": {
   "codemirror_mode": {
    "name": "ipython",
    "version": 3
   },
   "file_extension": ".py",
   "mimetype": "text/x-python",
   "name": "python",
   "nbconvert_exporter": "python",
   "pygments_lexer": "ipython3",
   "version": "3.6.8"
  }
 },
 "nbformat": 4,
 "nbformat_minor": 4
}
