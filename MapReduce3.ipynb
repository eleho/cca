{
 "cells": [
  {
   "cell_type": "code",
   "execution_count": 1,
   "metadata": {},
   "outputs": [
    {
     "data": {
      "text/plain": [
       "['1,1,957,1,299.98,299.98',\n",
       " '2,2,1073,1,199.99,199.99',\n",
       " '3,2,502,5,250.0,50.0',\n",
       " '4,2,403,1,129.99,129.99',\n",
       " '5,4,897,2,49.98,24.99',\n",
       " '6,4,365,5,299.95,59.99',\n",
       " '7,4,502,3,150.0,50.0',\n",
       " '8,4,1014,4,199.92,49.98',\n",
       " '9,5,957,1,299.98,299.98',\n",
       " '10,5,365,5,299.95,59.99']"
      ]
     },
     "execution_count": 1,
     "metadata": {},
     "output_type": "execute_result"
    }
   ],
   "source": [
    "def readData(dataPath):\n",
    "    dataFile = open(dataPath)\n",
    "    dataStr = dataFile.read()\n",
    "    dataList = dataStr.splitlines()\n",
    "    return dataList\n",
    "\n",
    "ordersPath = '/data/retail_db/orders/part-00000'\n",
    "orders = readData(ordersPath)\n",
    "orders[:10]\n",
    "# order_id, order_date, order_customer_id, order_status\n",
    "\n",
    "orderItemsPath = '/data/retail_db/order_items/part-00000'\n",
    "orderItems = readData(orderItemsPath)\n",
    "orderItems[:10]"
   ]
  },
  {
   "cell_type": "code",
   "execution_count": 2,
   "metadata": {},
   "outputs": [
    {
     "data": {
      "text/plain": [
       "[(1, 'CLOSED'),\n",
       " (2, 'PENDING_PAYMENT'),\n",
       " (3, 'COMPLETE'),\n",
       " (4, 'CLOSED'),\n",
       " (5, 'COMPLETE'),\n",
       " (6, 'COMPLETE'),\n",
       " (7, 'COMPLETE'),\n",
       " (8, 'PROCESSING'),\n",
       " (9, 'PENDING_PAYMENT'),\n",
       " (10, 'PENDING_PAYMENT')]"
      ]
     },
     "execution_count": 2,
     "metadata": {},
     "output_type": "execute_result"
    }
   ],
   "source": [
    "ordersMap = []\n",
    "for order in orders:\n",
    "    ordersMap.append((int(order.split(',')[0]), order.split(',')[3]))\n",
    "    \n",
    "ordersMap[:10]"
   ]
  },
  {
   "cell_type": "code",
   "execution_count": 3,
   "metadata": {},
   "outputs": [
    {
     "data": {
      "text/plain": [
       "[(1, 299.98),\n",
       " (2, 199.99),\n",
       " (2, 250.0),\n",
       " (2, 129.99),\n",
       " (4, 49.98),\n",
       " (4, 299.95),\n",
       " (4, 150.0),\n",
       " (4, 199.92),\n",
       " (5, 299.98),\n",
       " (5, 299.95)]"
      ]
     },
     "execution_count": 3,
     "metadata": {},
     "output_type": "execute_result"
    }
   ],
   "source": [
    "orderItemsMap = []\n",
    "for orderItem in orderItems:\n",
    "    orderItemsMap.append((int(orderItem.split(',')[1]), float(orderItem.split(',')[4])))\n",
    "    \n",
    "orderItemsMap[:10]"
   ]
  },
  {
   "cell_type": "code",
   "execution_count": 4,
   "metadata": {},
   "outputs": [
    {
     "data": {
      "text/plain": [
       "['2013-07',\n",
       " '2013-07',\n",
       " '2013-07',\n",
       " '2013-07',\n",
       " '2013-07',\n",
       " '2013-07',\n",
       " '2013-07',\n",
       " '2013-07',\n",
       " '2013-07',\n",
       " '2013-07']"
      ]
     },
     "execution_count": 4,
     "metadata": {},
     "output_type": "execute_result"
    }
   ],
   "source": [
    "ordersMap = []\n",
    "for order in orders:\n",
    "    ordersMap.append(order.split(',')[1][:7])\n",
    "    \n",
    "ordersMap[:10]"
   ]
  },
  {
   "cell_type": "code",
   "execution_count": 7,
   "metadata": {},
   "outputs": [
    {
     "data": {
      "text/plain": [
       "[(1, 'CLOSED'),\n",
       " (2, 'PENDING_PAYMENT'),\n",
       " (3, 'COMPLETE'),\n",
       " (4, 'CLOSED'),\n",
       " (5, 'COMPLETE'),\n",
       " (6, 'COMPLETE'),\n",
       " (7, 'COMPLETE'),\n",
       " (8, 'PROCESSING'),\n",
       " (9, 'PENDING_PAYMENT'),\n",
       " (10, 'PENDING_PAYMENT')]"
      ]
     },
     "execution_count": 7,
     "metadata": {},
     "output_type": "execute_result"
    }
   ],
   "source": [
    "def myMap(c, f):\n",
    "    newC = []\n",
    "    for i in c:\n",
    "        newC.append(f(i))\n",
    "    return newC\n",
    "\n",
    "orderIdAndStatus = myMap(orders, lambda order: (int(order.split(',')[0]), order.split(',')[3]))\n",
    "\n",
    "orderIdAndStatus[:10]"
   ]
  },
  {
   "cell_type": "code",
   "execution_count": 8,
   "metadata": {},
   "outputs": [
    {
     "data": {
      "text/plain": [
       "[(1, 299.98),\n",
       " (2, 199.99),\n",
       " (2, 250.0),\n",
       " (2, 129.99),\n",
       " (4, 49.98),\n",
       " (4, 299.95),\n",
       " (4, 150.0),\n",
       " (4, 199.92),\n",
       " (5, 299.98),\n",
       " (5, 299.95)]"
      ]
     },
     "execution_count": 8,
     "metadata": {},
     "output_type": "execute_result"
    }
   ],
   "source": [
    "orderIdAndSubtotal = myMap(orderItems, lambda oi: (int(oi.split(',')[1]), float(oi.split(',')[4])))\n",
    "\n",
    "orderIdAndSubtotal[:10]"
   ]
  },
  {
   "cell_type": "code",
   "execution_count": 9,
   "metadata": {},
   "outputs": [
    {
     "data": {
      "text/plain": [
       "['2013-07',\n",
       " '2013-07',\n",
       " '2013-07',\n",
       " '2013-07',\n",
       " '2013-07',\n",
       " '2013-07',\n",
       " '2013-07',\n",
       " '2013-07',\n",
       " '2013-07',\n",
       " '2013-07']"
      ]
     },
     "execution_count": 9,
     "metadata": {},
     "output_type": "execute_result"
    }
   ],
   "source": [
    "orderMonths = myMap(orders, lambda o: o.split(',')[1][:7])\n",
    "\n",
    "orderMonths[:10]"
   ]
  },
  {
   "cell_type": "code",
   "execution_count": 10,
   "metadata": {},
   "outputs": [
    {
     "data": {
      "text/plain": [
       "68883"
      ]
     },
     "execution_count": 10,
     "metadata": {},
     "output_type": "execute_result"
    }
   ],
   "source": [
    "len(orders)"
   ]
  },
  {
   "cell_type": "code",
   "execution_count": null,
   "metadata": {},
   "outputs": [],
   "source": [
    "len"
   ]
  }
 ],
 "metadata": {
  "kernelspec": {
   "display_name": "Python 3",
   "language": "python",
   "name": "python3"
  },
  "language_info": {
   "codemirror_mode": {
    "name": "ipython",
    "version": 3
   },
   "file_extension": ".py",
   "mimetype": "text/x-python",
   "name": "python",
   "nbconvert_exporter": "python",
   "pygments_lexer": "ipython3",
   "version": "3.6.8"
  }
 },
 "nbformat": 4,
 "nbformat_minor": 4
}
