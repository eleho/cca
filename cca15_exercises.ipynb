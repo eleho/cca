{
 "cells": [
  {
   "cell_type": "code",
   "execution_count": 4,
   "metadata": {},
   "outputs": [
    {
     "data": {
      "text/plain": [
       "['1,2013-07-25 00:00:00.0,11599,CLOSED',\n",
       " '2,2013-07-25 00:00:00.0,256,PENDING_PAYMENT',\n",
       " '3,2013-07-25 00:00:00.0,12111,COMPLETE',\n",
       " '4,2013-07-25 00:00:00.0,8827,CLOSED',\n",
       " '5,2013-07-25 00:00:00.0,11318,COMPLETE',\n",
       " '6,2013-07-25 00:00:00.0,7130,COMPLETE',\n",
       " '7,2013-07-25 00:00:00.0,4530,COMPLETE',\n",
       " '8,2013-07-25 00:00:00.0,2911,PROCESSING',\n",
       " '9,2013-07-25 00:00:00.0,5657,PENDING_PAYMENT',\n",
       " '10,2013-07-25 00:00:00.0,5648,PENDING_PAYMENT']"
      ]
     },
     "execution_count": 4,
     "metadata": {},
     "output_type": "execute_result"
    }
   ],
   "source": [
    "def readData(dataPath):\n",
    "    dataFile = open(dataPath)\n",
    "    dataStr = dataFile.read()\n",
    "    dataList = dataStr.splitlines()\n",
    "    return dataList\n",
    "\n",
    "ordersPath = '/data/retail_db/orders/part-00000'\n",
    "orders = readData(ordersPath)\n",
    "\n",
    "orders[:10]\n",
    "\n"
   ]
  },
  {
   "cell_type": "raw",
   "metadata": {},
   "source": [
    "def getOrderStatusCount(orders):\n",
    "    StatusCount = {}\n",
    "    StatusAttribute = orders.split(',')[3]\n",
    "    for order in orders:\n",
    "        if StatusCount.get(StatusAttribute):\n",
    "            StatusCount[StatusAttribute] += 1\n",
    "        else:\n",
    "            StatusCount[StatusAttribute] = 1\n",
    "    return StatusCount\n",
    "\n",
    "StatusCount = getORderStatusCount(orders)\n",
    "\n",
    "StatusCount"
   ]
  },
  {
   "cell_type": "code",
   "execution_count": 12,
   "metadata": {},
   "outputs": [
    {
     "data": {
      "text/plain": [
       "{'CLOSED': 7556,\n",
       " 'PENDING_PAYMENT': 15030,\n",
       " 'COMPLETE': 22899,\n",
       " 'PROCESSING': 8275,\n",
       " 'PAYMENT_REVIEW': 729,\n",
       " 'PENDING': 7610,\n",
       " 'ON_HOLD': 3798,\n",
       " 'CANCELED': 1428,\n",
       " 'SUSPECTED_FRAUD': 1558}"
      ]
     },
     "execution_count": 12,
     "metadata": {},
     "output_type": "execute_result"
    }
   ],
   "source": [
    "def getOrderStatusCount(orders):\n",
    "    StatusCount = {}\n",
    "    for order in orders:\n",
    "        orderAttribute = order.split(',')\n",
    "        if StatusCount.get(orderAttribute[3]):\n",
    "            StatusCount[orderAttribute[3]] += 1\n",
    "        else:\n",
    "            StatusCount[orderAttribute[3]] = 1\n",
    "    return StatusCount\n",
    "\n",
    "StatusCount = getOrderStatusCount(orders)\n",
    "\n",
    "StatusCount\n",
    "        "
   ]
  },
  {
   "cell_type": "code",
   "execution_count": null,
   "metadata": {},
   "outputs": [],
   "source": []
  }
 ],
 "metadata": {
  "kernelspec": {
   "display_name": "Python 3",
   "language": "python",
   "name": "python3"
  },
  "language_info": {
   "codemirror_mode": {
    "name": "ipython",
    "version": 3
   },
   "file_extension": ".py",
   "mimetype": "text/x-python",
   "name": "python",
   "nbconvert_exporter": "python",
   "pygments_lexer": "ipython3",
   "version": "3.6.8"
  }
 },
 "nbformat": 4,
 "nbformat_minor": 4
}
