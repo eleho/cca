{
 "cells": [
  {
   "cell_type": "code",
   "execution_count": 1,
   "metadata": {},
   "outputs": [
    {
     "data": {
      "text/plain": [
       "['1,2013-07-25 00:00:00.0,11599,CLOSED',\n",
       " '2,2013-07-25 00:00:00.0,256,PENDING_PAYMENT',\n",
       " '3,2013-07-25 00:00:00.0,12111,COMPLETE',\n",
       " '4,2013-07-25 00:00:00.0,8827,CLOSED',\n",
       " '5,2013-07-25 00:00:00.0,11318,COMPLETE',\n",
       " '6,2013-07-25 00:00:00.0,7130,COMPLETE',\n",
       " '7,2013-07-25 00:00:00.0,4530,COMPLETE',\n",
       " '8,2013-07-25 00:00:00.0,2911,PROCESSING',\n",
       " '9,2013-07-25 00:00:00.0,5657,PENDING_PAYMENT',\n",
       " '10,2013-07-25 00:00:00.0,5648,PENDING_PAYMENT']"
      ]
     },
     "execution_count": 1,
     "metadata": {},
     "output_type": "execute_result"
    }
   ],
   "source": [
    "def readData(dataPath):\n",
    "    dataFile = open(dataPath)\n",
    "    dataStr = dataFile.read()\n",
    "    dataList = dataStr.splitlines()\n",
    "    return dataList\n",
    "\n",
    "ordersPath = '/data/retail_db/orders/part-00000'\n",
    "orders = readData(ordersPath)\n",
    "\n",
    "orders[:10]\n",
    "\n"
   ]
  },
  {
   "cell_type": "code",
   "execution_count": 2,
   "metadata": {},
   "outputs": [
    {
     "data": {
      "text/plain": [
       "{'CLOSED': 7556,\n",
       " 'PENDING_PAYMENT': 15030,\n",
       " 'COMPLETE': 22899,\n",
       " 'PROCESSING': 8275,\n",
       " 'PAYMENT_REVIEW': 729,\n",
       " 'PENDING': 7610,\n",
       " 'ON_HOLD': 3798,\n",
       " 'CANCELED': 1428,\n",
       " 'SUSPECTED_FRAUD': 1558}"
      ]
     },
     "execution_count": 2,
     "metadata": {},
     "output_type": "execute_result"
    }
   ],
   "source": [
    "def getOrderStatusCount(orders):\n",
    "    StatusCount = {}\n",
    "    for order in orders:\n",
    "        orderAttribute = order.split(',')\n",
    "        if StatusCount.get(orderAttribute[3]):\n",
    "            StatusCount[orderAttribute[3]] += 1\n",
    "        else:\n",
    "            StatusCount[orderAttribute[3]] = 1\n",
    "    return StatusCount\n",
    "\n",
    "StatusCount = getOrderStatusCount(orders)\n",
    "\n",
    "StatusCount\n",
    "        "
   ]
  },
  {
   "cell_type": "code",
   "execution_count": 3,
   "metadata": {},
   "outputs": [
    {
     "data": {
      "text/plain": [
       "{'2013-07': 1533,\n",
       " '2013-08': 5680,\n",
       " '2013-09': 5841,\n",
       " '2013-10': 5335,\n",
       " '2013-11': 6381,\n",
       " '2013-12': 5892,\n",
       " '2014-01': 5908,\n",
       " '2014-02': 5635,\n",
       " '2014-03': 5778,\n",
       " '2014-04': 5657,\n",
       " '2014-05': 5467,\n",
       " '2014-06': 5308,\n",
       " '2014-07': 4468}"
      ]
     },
     "execution_count": 3,
     "metadata": {},
     "output_type": "execute_result"
    }
   ],
   "source": [
    "def getOrdersPerMonth(orders):\n",
    "    MonthOrdersCount = {}\n",
    "    for order in orders:\n",
    "        orderAttribute = order.split(',')[1][:7]      \n",
    "        if MonthOrdersCount.get(orderAttribute):\n",
    "            MonthOrdersCount[orderAttribute] += 1\n",
    "        else: \n",
    "            MonthOrdersCount[orderAttribute] = 1\n",
    "    return MonthOrdersCount\n",
    "\n",
    "MonthOrdersCount = getOrdersPerMonth(orders)\n",
    "        \n",
    "MonthOrdersCount"
   ]
  },
  {
   "cell_type": "code",
   "execution_count": 4,
   "metadata": {},
   "outputs": [
    {
     "data": {
      "text/plain": [
       "['1,1,957,1,299.98,299.98',\n",
       " '2,2,1073,1,199.99,199.99',\n",
       " '3,2,502,5,250.0,50.0',\n",
       " '4,2,403,1,129.99,129.99',\n",
       " '5,4,897,2,49.98,24.99',\n",
       " '6,4,365,5,299.95,59.99',\n",
       " '7,4,502,3,150.0,50.0',\n",
       " '8,4,1014,4,199.92,49.98',\n",
       " '9,5,957,1,299.98,299.98',\n",
       " '10,5,365,5,299.95,59.99']"
      ]
     },
     "execution_count": 4,
     "metadata": {},
     "output_type": "execute_result"
    }
   ],
   "source": [
    "orderItemsPath = '/data/retail_db/order_items/part-00000'\n",
    "orderItems = readData(orderItemsPath)\n",
    "\n",
    "orderItems[:10]"
   ]
  },
  {
   "cell_type": "code",
   "execution_count": 5,
   "metadata": {},
   "outputs": [
    {
     "data": {
      "text/plain": [
       "[]"
      ]
     },
     "execution_count": 5,
     "metadata": {},
     "output_type": "execute_result"
    }
   ],
   "source": [
    "def getSubtotalError(orderItems):\n",
    "    ErrorOrders = []\n",
    "    ErrorOrdersTuple = ()\n",
    "    for orderItem in orderItems:\n",
    "        orderItemAttribute = orderItem.split(',')\n",
    "        SubTotal = round(float(orderItemAttribute[5]) * float(orderItemAttribute[3]),2)\n",
    "        if SubTotal != float(orderItemAttribute[4]):\n",
    "            ErrorOrders.append(orderItem)\n",
    "            ErrorOrdersTuple += (SubTotal, orderItem)\n",
    "    return (ErrorOrders, ErrorOrdersTuple)\n",
    "\n",
    "ErrorOrders, ErrorOrdersTuple = getSubtotalError(orderItems)\n",
    "ErrorOrders\n",
    "#ErrorOrdersTuple\n",
    "    \n",
    "    "
   ]
  },
  {
   "cell_type": "code",
   "execution_count": 6,
   "metadata": {},
   "outputs": [],
   "source": [
    "def getOrderId(orderItems):\n",
    "    orderIdDict = {}\n",
    "    for orderItem in orderItems:\n",
    "        orderItemAttribute = orderItem.split(',')\n",
    "        orderIdDict[int(orderItemAttribute[1])] = None\n",
    "    return orderIdDict\n",
    "    \n",
    "orderIdDict = getOrderId(orderItems)    \n",
    "#orderIdDict\n",
    "    \n"
   ]
  },
  {
   "cell_type": "code",
   "execution_count": 7,
   "metadata": {},
   "outputs": [
    {
     "data": {
      "text/plain": [
       "['3,2013-07-25 00:00:00.0,12111,COMPLETE',\n",
       " '6,2013-07-25 00:00:00.0,7130,COMPLETE',\n",
       " '22,2013-07-25 00:00:00.0,333,COMPLETE',\n",
       " '26,2013-07-25 00:00:00.0,7562,COMPLETE',\n",
       " '32,2013-07-25 00:00:00.0,3960,COMPLETE',\n",
       " '40,2013-07-25 00:00:00.0,12092,PENDING_PAYMENT',\n",
       " '47,2013-07-25 00:00:00.0,8487,PENDING_PAYMENT',\n",
       " '53,2013-07-25 00:00:00.0,4701,PROCESSING',\n",
       " '54,2013-07-25 00:00:00.0,10628,PENDING_PAYMENT',\n",
       " '55,2013-07-25 00:00:00.0,2052,PENDING']"
      ]
     },
     "execution_count": 7,
     "metadata": {},
     "output_type": "execute_result"
    }
   ],
   "source": [
    "def getOrderNoItems(orders, orderIdDict):\n",
    "    ordersNoItems = []\n",
    "    for order in orders:\n",
    "        orderAttribute = int(order.split(',')[0])\n",
    "        if orderAttribute not in orderIdDict:\n",
    "            ordersNoItems.append(order)\n",
    "    return ordersNoItems\n",
    "\n",
    "\n",
    "orderNoItems = getOrderNoItems(orders, orderIdDict)\n",
    "orderNoItems[:10]"
   ]
  },
  {
   "cell_type": "code",
   "execution_count": 8,
   "metadata": {},
   "outputs": [],
   "source": [
    "def getOrderIdAndDateDict(orders):\n",
    "    orderIdAndDateDict = {}\n",
    "    for order in orders:\n",
    "        orderAttributes = order.split(',')\n",
    "        orderIdAndDateDict[int(orderAttributes[0])] = orderAttributes[1]\n",
    "    return orderIdAndDateDict\n",
    "\n",
    "orderIdAndDateDict = getOrderIdAndDateDict(orders)"
   ]
  },
  {
   "cell_type": "code",
   "execution_count": 9,
   "metadata": {},
   "outputs": [],
   "source": [
    "def getDailyProductRevenue(orderIdAndDateDict, orderItems):\n",
    "    dailyProductRevenue = []\n",
    "    for orderItem in orderItems:\n",
    "        orderItemAttribute = orderItem.split(',')\n",
    "        if orderIdAndDateDict.get(int(orderItemAttribute[1])):\n",
    "            orderDate = orderIdAndDateDict[int(orderItemAttribute[1])]\n",
    "            dailyProductRevenue += [[(orderDate,int(orderItemAttribute[2])),float(orderItemAttribute[4])]]\n",
    "\n",
    "    return dailyProductRevenue\n",
    "\n",
    "dailyProductRevenue = getDailyProductRevenue(orderIdAndDateDict, orderItems)"
   ]
  },
  {
   "cell_type": "code",
   "execution_count": 10,
   "metadata": {},
   "outputs": [
    {
     "data": {
      "text/plain": [
       "[[('2013-07-25 00:00:00.0', 957), 299.98],\n",
       " [('2013-07-25 00:00:00.0', 1073), 199.99],\n",
       " [('2013-07-25 00:00:00.0', 502), 250.0],\n",
       " [('2013-07-25 00:00:00.0', 403), 129.99],\n",
       " [('2013-07-25 00:00:00.0', 897), 49.98],\n",
       " [('2013-07-25 00:00:00.0', 365), 299.95],\n",
       " [('2013-07-25 00:00:00.0', 502), 150.0],\n",
       " [('2013-07-25 00:00:00.0', 1014), 199.92],\n",
       " [('2013-07-25 00:00:00.0', 957), 299.98],\n",
       " [('2013-07-25 00:00:00.0', 365), 299.95]]"
      ]
     },
     "execution_count": 10,
     "metadata": {},
     "output_type": "execute_result"
    }
   ],
   "source": [
    "dailyProductRevenue[:10]"
   ]
  },
  {
   "cell_type": "code",
   "execution_count": 11,
   "metadata": {},
   "outputs": [],
   "source": [
    "def getDailyProductRevenue(orderIdAndDateDict, orderItems):\n",
    "    dailyProductRevenue = {}\n",
    "    for orderItem in orderItems:\n",
    "        orderItemAttribute = orderItem.split(',')\n",
    "        if orderIdAndDateDict.get(int(orderItemAttribute[1])):\n",
    "            orderDate = orderIdAndDateDict[int(orderItemAttribute[1])]\n",
    "            orderItemTuple = (orderDate + ' ' + orderItemAttribute[2], float(orderItemAttribute[4]))\n",
    "            if dailyProductRevenue.get(orderItemTuple[0]):\n",
    "                dailyProductRevenue[orderItemTuple[0]] += orderItemTuple[1]\n",
    "            else:\n",
    "                dailyProductRevenue[orderItemTuple[0]] = orderItemTuple[1]         \n",
    "    return dailyProductRevenue\n",
    "\n",
    "dailyProductRevenue = getDailyProductRevenue(orderIdAndDateDict, orderItems)\n",
    "\n",
    "#dailyProductRevenue"
   ]
  },
  {
   "cell_type": "code",
   "execution_count": 20,
   "metadata": {},
   "outputs": [
    {
     "data": {
      "text/plain": [
       "[('2013-07-25 00:00:00.0 957', 9599.359999999993),\n",
       " ('2013-07-25 00:00:00.0 1073', 6999.649999999995),\n",
       " ('2013-07-25 00:00:00.0 502', 5100.0),\n",
       " ('2013-07-25 00:00:00.0 403', 5589.569999999994),\n",
       " ('2013-07-25 00:00:00.0 365', 7558.739999999994),\n",
       " ('2013-07-25 00:00:00.0 1014', 6397.439999999999),\n",
       " ('2013-07-25 00:00:00.0 191', 8499.149999999998),\n",
       " ('2013-07-25 00:00:00.0 627', 2879.2799999999997),\n",
       " ('2013-07-25 00:00:00.0 1004', 10799.459999999994),\n",
       " ('2013-07-26 00:00:00.0 403', 10529.189999999986)]"
      ]
     },
     "execution_count": 20,
     "metadata": {},
     "output_type": "execute_result"
    }
   ],
   "source": [
    "dailyProductRevenue1000 = dailyProductRevenue.copy()\n",
    "for item in dailyProductRevenue:\n",
    "    if dailyProductRevenue.get(item) <= 1000:\n",
    "        dailyProductRevenue1000.pop(item)\n",
    "        \n",
    "list(dailyProductRevenue1000.items())[:10]"
   ]
  },
  {
   "cell_type": "code",
   "execution_count": null,
   "metadata": {},
   "outputs": [],
   "source": []
  }
 ],
 "metadata": {
  "kernelspec": {
   "display_name": "Python 3",
   "language": "python",
   "name": "python3"
  },
  "language_info": {
   "codemirror_mode": {
    "name": "ipython",
    "version": 3
   },
   "file_extension": ".py",
   "mimetype": "text/x-python",
   "name": "python",
   "nbconvert_exporter": "python",
   "pygments_lexer": "ipython3",
   "version": "3.6.8"
  }
 },
 "nbformat": 4,
 "nbformat_minor": 4
}
