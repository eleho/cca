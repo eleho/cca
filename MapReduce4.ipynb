{
 "cells": [
  {
   "cell_type": "code",
   "execution_count": 1,
   "metadata": {},
   "outputs": [
    {
     "data": {
      "text/plain": [
       "['1,1,957,1,299.98,299.98',\n",
       " '2,2,1073,1,199.99,199.99',\n",
       " '3,2,502,5,250.0,50.0',\n",
       " '4,2,403,1,129.99,129.99',\n",
       " '5,4,897,2,49.98,24.99',\n",
       " '6,4,365,5,299.95,59.99',\n",
       " '7,4,502,3,150.0,50.0',\n",
       " '8,4,1014,4,199.92,49.98',\n",
       " '9,5,957,1,299.98,299.98',\n",
       " '10,5,365,5,299.95,59.99']"
      ]
     },
     "execution_count": 1,
     "metadata": {},
     "output_type": "execute_result"
    }
   ],
   "source": [
    "def readData(dataPath):\n",
    "    dataFile = open(dataPath)\n",
    "    dataStr = dataFile.read()\n",
    "    dataList = dataStr.splitlines()\n",
    "    return dataList\n",
    "\n",
    "ordersPath = '/data/retail_db/orders/part-00000'\n",
    "orders = readData(ordersPath)\n",
    "orders[:10]\n",
    "# order_id, order_date, order_customer_id, order_status\n",
    "\n",
    "orderItemsPath = '/data/retail_db/order_items/part-00000'\n",
    "orderItems = readData(orderItemsPath)\n",
    "orderItems[:10]"
   ]
  },
  {
   "cell_type": "code",
   "execution_count": 8,
   "metadata": {},
   "outputs": [],
   "source": [
    "def getOrderItemsFiltered(orderItems, orderId):\n",
    "    orderItemsFiltered = []\n",
    "    for orderItem in orderItems:\n",
    "        if int(orderItem.split(',')[1]) == orderId:\n",
    "            orderItemsFiltered.append(orderItem)\n",
    "    return orderItemsFiltered\n",
    "    \n",
    "def getOrderItemsMap(orderItemsFiltered):\n",
    "    orderItemsMap = []\n",
    "    for orderItem in orderItemsFiltered:\n",
    "        orderItemsMap.append(float(orderItem.split(',')[4]))\n",
    "    return orderItemsMap"
   ]
  },
  {
   "cell_type": "code",
   "execution_count": 10,
   "metadata": {},
   "outputs": [
    {
     "data": {
      "text/plain": [
       "[199.99, 250.0, 129.99]"
      ]
     },
     "execution_count": 10,
     "metadata": {},
     "output_type": "execute_result"
    }
   ],
   "source": [
    "orderItemsFiltered = getOrderItemsFiltered(orderItems, 2)\n",
    "orderItemsMap = getOrderItemsMap(orderItemsFiltered)\n",
    "\n",
    "orderItemsMap[:10]"
   ]
  },
  {
   "cell_type": "code",
   "execution_count": 11,
   "metadata": {},
   "outputs": [
    {
     "data": {
      "text/plain": [
       "579.98"
      ]
     },
     "execution_count": 11,
     "metadata": {},
     "output_type": "execute_result"
    }
   ],
   "source": [
    "totalRevenue = orderItemsMap[0]\n",
    "for orderItemSubtotal in orderItemsMap[1:]:\n",
    "    totalRevenue += orderItemSubtotal\n",
    "    \n",
    "totalRevenue"
   ]
  },
  {
   "cell_type": "code",
   "execution_count": 13,
   "metadata": {},
   "outputs": [
    {
     "data": {
      "text/plain": [
       "129.99"
      ]
     },
     "execution_count": 13,
     "metadata": {},
     "output_type": "execute_result"
    }
   ],
   "source": [
    "minRevenue = orderItemsMap[0]\n",
    "for orderItemSubtotal in orderItemsMap[1:]:\n",
    "    minRevenue = minRevenue if minRevenue < orderItemSubtotal else orderItemSubtotal\n",
    "    \n",
    "minRevenue"
   ]
  },
  {
   "cell_type": "code",
   "execution_count": 14,
   "metadata": {},
   "outputs": [
    {
     "data": {
      "text/plain": [
       "250.0"
      ]
     },
     "execution_count": 14,
     "metadata": {},
     "output_type": "execute_result"
    }
   ],
   "source": [
    "maxRevenue = orderItemsMap[0]\n",
    "for orderItemSubtotal in orderItemsMap[1:]:\n",
    "    maxRevenue = maxRevenue if maxRevenue > orderItemSubtotal else orderItemSubtotal\n",
    "    \n",
    "maxRevenue"
   ]
  },
  {
   "cell_type": "code",
   "execution_count": 17,
   "metadata": {},
   "outputs": [],
   "source": [
    "def myReduce(c, f):\n",
    "    t = c[0]\n",
    "    for i in c[1:]:\n",
    "        t = f(t, i)\n",
    "    return t"
   ]
  },
  {
   "cell_type": "code",
   "execution_count": 18,
   "metadata": {},
   "outputs": [
    {
     "data": {
      "text/plain": [
       "579.98"
      ]
     },
     "execution_count": 18,
     "metadata": {},
     "output_type": "execute_result"
    }
   ],
   "source": [
    "orderRevenue = myReduce(orderItemsMap, lambda i, j: i + j)\n",
    "\n",
    "orderRevenue"
   ]
  },
  {
   "cell_type": "code",
   "execution_count": 20,
   "metadata": {},
   "outputs": [
    {
     "ename": "SyntaxError",
     "evalue": "invalid syntax (<ipython-input-20-ae74343cc308>, line 1)",
     "output_type": "error",
     "traceback": [
      "\u001b[0;36m  File \u001b[0;32m\"<ipython-input-20-ae74343cc308>\"\u001b[0;36m, line \u001b[0;32m1\u001b[0m\n\u001b[0;31m    minRevenue = myReduce(orderItemsMap, lambda i, j: if i < j)\u001b[0m\n\u001b[0m                                                       ^\u001b[0m\n\u001b[0;31mSyntaxError\u001b[0m\u001b[0;31m:\u001b[0m invalid syntax\n"
     ]
    }
   ],
   "source": [
    "minRevenue = myReduce(orderItemsMap, lambda i, j: if(i < j))\n",
    "\n",
    "minRevenue"
   ]
  },
  {
   "cell_type": "code",
   "execution_count": null,
   "metadata": {},
   "outputs": [],
   "source": []
  }
 ],
 "metadata": {
  "kernelspec": {
   "display_name": "Python 3",
   "language": "python",
   "name": "python3"
  },
  "language_info": {
   "codemirror_mode": {
    "name": "ipython",
    "version": 3
   },
   "file_extension": ".py",
   "mimetype": "text/x-python",
   "name": "python",
   "nbconvert_exporter": "python",
   "pygments_lexer": "ipython3",
   "version": "3.6.8"
  }
 },
 "nbformat": 4,
 "nbformat_minor": 4
}
